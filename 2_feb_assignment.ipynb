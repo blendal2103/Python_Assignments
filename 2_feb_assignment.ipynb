{
 "cells": [
  {
   "cell_type": "markdown",
   "metadata": {},
   "source": [
    "#### Q1. Explain with an example each when to use a for loop and a while loop.\n",
    "\n",
    "1. While loop :\n",
    "In python, a while loop is used to execute a block of statements repeatedly until a given condition is satisfied. And when the condition becomes false, the line immediately after the loop in the program is executed.\n",
    "All the statements indented by the same number of character spaces after a programming construct are considered to be part of a single block of code. Python uses indentation as its method of grouping statements.\n"
   ]
  },
  {
   "cell_type": "code",
   "execution_count": 5,
   "metadata": {},
   "outputs": [
    {
     "name": "stdout",
     "output_type": "stream",
     "text": [
      "3 * 1 = 3\n",
      "3 * 2 = 6\n",
      "3 * 3 = 9\n",
      "3 * 4 = 12\n",
      "3 * 5 = 15\n",
      "3 * 6 = 18\n",
      "3 * 7 = 21\n",
      "3 * 8 = 24\n",
      "3 * 9 = 27\n",
      "3 * 10 = 30\n"
     ]
    }
   ],
   "source": [
    "### Example :\n",
    "# Program to print a table :\n",
    "a=3\n",
    "i=1\n",
    "while i<=10:\n",
    "    print(a,\"*\",i, \"=\",a*i)\n",
    "    i+=1"
   ]
  },
  {
   "cell_type": "markdown",
   "metadata": {},
   "source": [
    "2. For loop :\n",
    "For loop in python are used for sequential traversal. For example: traversing a list or string or array etc. "
   ]
  },
  {
   "cell_type": "code",
   "execution_count": 4,
   "metadata": {},
   "outputs": [
    {
     "name": "stdout",
     "output_type": "stream",
     "text": [
      "a[1] = 1\n",
      "a[2] = 2\n",
      "a[3] = 3\n",
      "a[4] = 4\n"
     ]
    }
   ],
   "source": [
    "## Example :\n",
    "# traversing a list:\n",
    "a=[1,2,3,4]\n",
    "for i in a:\n",
    "    print(\"a[\",i,\"] = \",i,sep=\"\")"
   ]
  },
  {
   "cell_type": "markdown",
   "metadata": {},
   "source": [
    "#### Q2. Write a python program to print the sum and product of the first 10 natural numbers using for and while loop."
   ]
  },
  {
   "cell_type": "code",
   "execution_count": 8,
   "metadata": {},
   "outputs": [
    {
     "name": "stdout",
     "output_type": "stream",
     "text": [
      "Sum = 55\n",
      "Multiplication = 3628800\n"
     ]
    }
   ],
   "source": [
    "## By while loop :\n",
    "i=1\n",
    "prod=1\n",
    "sum=0\n",
    "while i<11:\n",
    "    prod*=i\n",
    "    sum+=i\n",
    "    i+=1\n",
    "\n",
    "print(\"Sum =\",sum)\n",
    "print(\"Multiplication =\",prod)"
   ]
  },
  {
   "cell_type": "markdown",
   "metadata": {},
   "source": [
    "##### Q3. Create a python program to compute the electricity bill for a household.\n",
    "##### The per-unit charges in rupees are as follows: For the first 100 units, the user will be charged Rs. 4.5 per unit, for the next 100 units, the user will be charged Rs. 6 per unit, and for the next 100 units, the user will be charged Rs. 10 per unit, After 300 units and above the user will be charged Rs. 20 per unit.\n",
    "##### You are required to take the units of electricity consumed in a month from the user as input.\n",
    "##### Your program must pass this test case: when the unit of electricity consumed by the user in a month is 310, the total electricity bill should be 2250."
   ]
  },
  {
   "cell_type": "code",
   "execution_count": 22,
   "metadata": {},
   "outputs": [
    {
     "name": "stdout",
     "output_type": "stream",
     "text": [
      "200\n",
      "1200\n"
     ]
    }
   ],
   "source": [
    "units=310\n",
    "bill=0\n",
    "\n",
    "if units >300  :\n",
    "    bill=bill+(units%300)*20\n",
    "    units-=units%300\n",
    "    print(bill)\n",
    "if units <= 300 and units>200 :\n",
    "    bill=bill+(units%200)*10\n",
    "    units-=units%200\n",
    "    print(bill)\n",
    "if units <= 200 and units>100 :\n",
    "    bill=bill+(units%100)*6\n",
    "    units-=units%100\n",
    "    print(bill)\n",
    "if units <= 100 and units>0 :\n",
    "    bill=bill+(units%100)*4.5\n",
    "    units-=units%0\n",
    "   "
   ]
  },
  {
   "cell_type": "code",
   "execution_count": 26,
   "metadata": {},
   "outputs": [],
   "source": [
    "units=310\n",
    "bill=0\n",
    "\n",
    "# if units >300  :\n",
    "#     bill=bill+(units%300)*20\n",
    "#     units-=units%300\n",
    "#     print(bill)\n",
    "# if units <= 300 and units>200 :\n",
    "#     bill=bill+(units%200)*10\n",
    "#     units-=units%200\n",
    "#     print(bill)\n",
    "# if units <= 200 and units>100 :\n",
    "#     bill=bill+(units%100)*6\n",
    "#     units-=units%100\n",
    "#     print(bill)\n",
    "# if units <= 100 and units>0 :\n",
    "#     bill=bill+(units%100)*4.5\n",
    "#     units-=units%0\n",
    "#     print(bill)\n",
    "    \n",
    "    \n",
    "while units>0:\n",
    "    if(units>300):\n",
    "        bill+=20\n",
    "    elif (units>200 and units<=300):\n",
    "        bill=bill+10\n",
    "    elif (units>100 and units<=200):\n",
    "        bill=bill+6\n",
    "    elif (units>0 and units<=100):\n",
    "        bill=bill+4.5\n",
    "    \n",
    "    units=units-1"
   ]
  },
  {
   "cell_type": "code",
   "execution_count": 27,
   "metadata": {},
   "outputs": [
    {
     "data": {
      "text/plain": [
       "2250.0"
      ]
     },
     "execution_count": 27,
     "metadata": {},
     "output_type": "execute_result"
    }
   ],
   "source": [
    "bill"
   ]
  },
  {
   "cell_type": "code",
   "execution_count": 24,
   "metadata": {},
   "outputs": [
    {
     "data": {
      "text/plain": [
       "200"
      ]
     },
     "execution_count": 24,
     "metadata": {},
     "output_type": "execute_result"
    }
   ],
   "source": [
    "units"
   ]
  },
  {
   "cell_type": "markdown",
   "metadata": {},
   "source": [
    "#### Q4. Create a list of numbers from 1 to 100. Use for loop and while loop to calculate the cube of eachnumber and if the cube of that number is divisible by 4 or 5 then append that number in a list and print that list."
   ]
  },
  {
   "cell_type": "code",
   "execution_count": 32,
   "metadata": {},
   "outputs": [
    {
     "name": "stdout",
     "output_type": "stream",
     "text": [
      "[2, 4, 5, 6, 8, 10, 12, 14, 15, 16, 18, 20, 22, 24, 25, 26, 28, 30, 32, 34, 35, 36, 38, 40, 42, 44, 45, 46, 48, 50, 52, 54, 55, 56, 58, 60, 62, 64, 65, 66, 68, 70, 72, 74, 75, 76, 78, 80, 82, 84, 85, 86, 88, 90, 92, 94, 95, 96, 98, 100]\n"
     ]
    }
   ],
   "source": [
    "# using for \n",
    "li=[i for i in range(1,101)]\n",
    "li1=[]\n",
    "for i in li :\n",
    "    cube=i**3\n",
    "    if(cube%4==0 or cube%5==0):\n",
    "        li1.append(i)\n",
    "print(li1)"
   ]
  },
  {
   "cell_type": "code",
   "execution_count": 36,
   "metadata": {},
   "outputs": [
    {
     "name": "stdout",
     "output_type": "stream",
     "text": [
      "[2, 4, 5, 6, 8, 10, 12, 14, 15, 16, 18, 20, 22, 24, 25, 26, 28, 30, 32, 34, 35, 36, 38, 40, 42, 44, 45, 46, 48, 50, 52, 54, 55, 56, 58, 60, 62, 64, 65, 66, 68, 70, 72, 74, 75, 76, 78, 80, 82, 84, 85, 86, 88, 90, 92, 94, 95, 96, 98, 100]\n"
     ]
    }
   ],
   "source": [
    "# using while\n",
    "li2=[]\n",
    "i=1\n",
    "while i<101:\n",
    "    cube=i**3\n",
    "    if(cube % 4==0 or cube % 5==0):\n",
    "        li2.append(i)\n",
    "    i=i+1\n",
    "\n",
    "print(li2)"
   ]
  },
  {
   "cell_type": "markdown",
   "metadata": {},
   "source": [
    "#### Q5. Write a program to filter count vowels in the below-given string. string = \"I want to become a data scientist\""
   ]
  },
  {
   "cell_type": "code",
   "execution_count": 41,
   "metadata": {},
   "outputs": [
    {
     "name": "stdout",
     "output_type": "stream",
     "text": [
      "12\n"
     ]
    }
   ],
   "source": [
    "string = \"I want to become a data scientist\"\n",
    "count=0\n",
    "for i in string.lower() :\n",
    "    if i=='a' or i=='e' or i=='i' or i=='o' or i=='u':\n",
    "        count+=1 \n",
    "print(count)"
   ]
  },
  {
   "cell_type": "code",
   "execution_count": null,
   "metadata": {},
   "outputs": [],
   "source": []
  }
 ],
 "metadata": {
  "kernelspec": {
   "display_name": "Python 3",
   "language": "python",
   "name": "python3"
  },
  "language_info": {
   "codemirror_mode": {
    "name": "ipython",
    "version": 3
   },
   "file_extension": ".py",
   "mimetype": "text/x-python",
   "name": "python",
   "nbconvert_exporter": "python",
   "pygments_lexer": "ipython3",
   "version": "3.10.11"
  },
  "orig_nbformat": 4
 },
 "nbformat": 4,
 "nbformat_minor": 2
}
