{
 "cells": [
  {
   "cell_type": "markdown",
   "metadata": {},
   "source": [
    "##### 1.  What is multithreading in python? Why is it used? Name the module used to handle threads in python.\n",
    "\n",
    "Multithreading in Python refers to the concurrent execution within a single process. These threads can run simultaneously and the same memory space,which allows for more efficient utilization of CPU resources and can help improve the responsiveness of certain types of programs\n",
    "\n",
    "Multithreading is used in Python for various processes including :\n",
    "\n",
    "1. Parallelsism : It is used to perform multiple task concurrently.\n",
    "2. Concurrency : It can be used to handle concurrent I/O operation such as reading or writing to files, network communication.\n",
    "\n",
    "3. Improved Responsiveness : It can be used to keep the user interface responsive while performing he time consuming task in the in the background.\n",
    "\n",
    "Python has library named  *threading*  used to handle the threads."
   ]
  },
  {
   "cell_type": "markdown",
   "metadata": {},
   "source": [
    "##### 2. Why threading module used? Write the use of the following functions( activeCount, currentThread, enumerate)\n",
    "\n",
    "The threading module is used in python to handle the multiple threads which allows us to use the CPU efficiently.\n",
    "\n",
    "1. activeCount( ) : It return the number of thread object currently alive.These are threads that have been created but have not finished yet\n",
    "\n",
    "2. currentThread( ) : It is a function that returns the currently executing thread object. This can be used to access the information about the currently running thread.\n",
    "\n",
    "3. enumerate( ) : It is a function that returns a list of currently alive Thread objects.\n"
   ]
  },
  {
   "cell_type": "markdown",
   "metadata": {},
   "source": [
    "##### 3. Explain the following functions\n",
    "1. run ( ) : When we create an instance of your custom thread class and call it's start method, it internally invokes the run() method.\n",
    "\n",
    "2. start ( ) :It is used to begin the execution of a thread. It initiates the thread's operation and internally calls the run() method of the thread.\n",
    "\n",
    "3. join( ) : The join() method is used to block the program's execution until a specific thread has finished its work.It allows you to wait for a thread to complete before proceeding further in your code.\n",
    "\n",
    "4. isAlive( ) : It is a method used to check whether a thread is currenly running or has completed it's execution. It returns *True* if the thread is alive and *False* if it has finished.\n",
    "\n"
   ]
  },
  {
   "cell_type": "markdown",
   "metadata": {},
   "source": [
    "##### 4. Write a python program to create two threads. Thread one must print the list of squares and thread two must print the list of cubes"
   ]
  },
  {
   "cell_type": "code",
   "execution_count": 18,
   "metadata": {},
   "outputs": [],
   "source": [
    "\n",
    "import threading\n",
    "def square_(li):\n",
    "    for i in li:\n",
    "        print(i**2,end=\"  \")\n",
    "\n",
    "def cube_(li):\n",
    "    print()\n",
    "    for i in li:\n",
    "        print(i**3,end=\"  \")"
   ]
  },
  {
   "cell_type": "code",
   "execution_count": 23,
   "metadata": {},
   "outputs": [],
   "source": [
    "li=[1,2,3,4,5]\n",
    "sq=threading.Thread(target=square_,  args=(li,))\n",
    "cube=threading.Thread(target=cube_, args=(li,))"
   ]
  },
  {
   "cell_type": "code",
   "execution_count": 24,
   "metadata": {},
   "outputs": [
    {
     "name": "stdout",
     "output_type": "stream",
     "text": [
      "1  4  9  16  25  \n",
      "1  8  27  64  125  "
     ]
    }
   ],
   "source": [
    "\n",
    "sq.start()\n",
    "cube.start()\n",
    "sq.join()\n",
    "cube.join()"
   ]
  },
  {
   "cell_type": "markdown",
   "metadata": {},
   "source": [
    "##### 5. State advantages and disadvantages of multithreading\n",
    "\n",
    "Advantages of Multithreading:\n",
    "\n",
    "Concurrency: Multithreading allows multiple threads to run concurrently within a single process, enabling the program to perform multiple tasks simultaneously.\n",
    "\n",
    "Efficient Resource Utilization: Threads share the same memory space, which can make more efficient use of system resources.\n",
    "\n",
    "Responsive User Interfaces: Multithreading is commonly used in graphical user interfaces (GUIs) to keep the user interface responsive while background tasks or long-running operations are executed in separate threads.\n",
    "\n",
    "Parallelism: Multithreading enables parallel execution of tasks.\n",
    "\n",
    "Simplified Code: In some cases, multithreading can lead to simpler and more modular code, as tasks can be divided into smaller, manageable threads.\n",
    "\n",
    "Disadvantages of Multithreading:\n",
    "\n",
    "Complexity: Multithreaded programming can be complex and challenging to implement correctly. \n",
    "\n",
    "Thread Safety: Ensuring that shared data is accessed safely by multiple threads can be tricky. \n",
    "\n",
    "Overhead: Creating and managing threads involves overhead, such as memory allocation and context switching. In some cases, the overhead of managing threads can outweigh the benefits of concurrency.\n",
    "\n",
    "Limited Parallelism: In Python, the Global Interpreter Lock (GIL) can limit the true parallelism of threads, especially for CPU-bound tasks. "
   ]
  },
  {
   "cell_type": "markdown",
   "metadata": {},
   "source": [
    "##### 6. Explain deadlocks and race conditions.\n",
    "\n",
    "1. Deadlock Condition : Deadlock is a situation in concurrent computing where two or more threads or processes become stuck in a state of mutual waiting for resource that other has. It occurs when each thread holds a resource and is waiting for another resource that is held by another thread . As a result, none of threads can proceed their execution.\n",
    "\n",
    "2. Race Condition : A race condition occurs when multiple threads or processes access shared data concurrenlty and the final outcome is unpredicatable because the order of execution is uncertain. It can lead to unintended erroreneous results in a program."
   ]
  },
  {
   "cell_type": "code",
   "execution_count": null,
   "metadata": {},
   "outputs": [],
   "source": []
  }
 ],
 "metadata": {
  "kernelspec": {
   "display_name": "Python 3",
   "language": "python",
   "name": "python3"
  },
  "language_info": {
   "codemirror_mode": {
    "name": "ipython",
    "version": 3
   },
   "file_extension": ".py",
   "mimetype": "text/x-python",
   "name": "python",
   "nbconvert_exporter": "python",
   "pygments_lexer": "ipython3",
   "version": "3.10.11"
  },
  "orig_nbformat": 4
 },
 "nbformat": 4,
 "nbformat_minor": 2
}
