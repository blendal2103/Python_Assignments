{
 "cells": [
  {
   "cell_type": "markdown",
   "metadata": {},
   "source": [
    "##### Q1 Who developed the Python Programming Language ?\n",
    " Guido van Rossum"
   ]
  },
  {
   "cell_type": "markdown",
   "metadata": {},
   "source": [
    "##### Q2 Which type of Programming does Python Supports ?\n",
    "\n",
    "  It supports \n",
    "   - Object Oriented Programming\n",
    "   - Structured Programming\n",
    "   - Functional Programming\n",
    "   - Aspect Oriented Programming"
   ]
  },
  {
   "cell_type": "markdown",
   "metadata": {},
   "source": [
    "##### Q3 Is python case sensive while dealing identifiers ?\n",
    "    Yes"
   ]
  },
  {
   "cell_type": "markdown",
   "metadata": {},
   "source": [
    "##### Q4 What is the Correct Extension of Python File ?\n",
    "    .py"
   ]
  },
  {
   "cell_type": "markdown",
   "metadata": {},
   "source": [
    "##### Q5. Is python is code compiled or interpreted ?\n",
    "Code Interpreted"
   ]
  },
  {
   "cell_type": "markdown",
   "metadata": {},
   "source": [
    "##### Q6 Name the few block of codes used to define in python language ?\n",
    "\n",
    "  - Function\n",
    "  - Class \n",
    "  - Loops\n",
    "  - Conditional Statement"
   ]
  },
  {
   "cell_type": "markdown",
   "metadata": {},
   "source": [
    "##### Q7 State the character used to give a single line comment in python ?\n",
    "\n",
    "    #"
   ]
  },
  {
   "cell_type": "markdown",
   "metadata": {},
   "source": [
    "##### Q8 Mention the Function which helps us to find version of python that we are currently working on ?\n",
    "sys.version"
   ]
  },
  {
   "cell_type": "markdown",
   "metadata": {},
   "source": [
    "##### Q9 Python supports the creation of anonymous function at runtime , using a construct called - - - \n",
    "\n",
    "Ans --> lambda"
   ]
  },
  {
   "cell_type": "markdown",
   "metadata": {},
   "source": [
    "##### Q10 What does pip stands for in python ?\n",
    "Ans ---> Package Manager for Python"
   ]
  },
  {
   "cell_type": "markdown",
   "metadata": {},
   "source": [
    "##### Q11 Mention a few built in functiom in Python ?\n",
    "\n",
    "  - len()\n",
    "  - typeof()\n",
    "  - print()\n",
    "  - int()\n",
    "  - dir()\n",
    "  - foramt()"
   ]
  },
  {
   "cell_type": "markdown",
   "metadata": {},
   "source": [
    "##### Q12 What is the maximum possible length  of an identifier in python ?\n",
    " Ans ---> 255 letters"
   ]
  },
  {
   "cell_type": "markdown",
   "metadata": {},
   "source": [
    "##### Q13 What are the benefits of using python ?\n",
    "    This are the Benefits :\n",
    "    1. It provides the Readability and Simplicity\n",
    "    2. It is versatile and Flexible\n",
    "    3. It has Large Standard Libraries\n",
    "    4. It also has cross platform compatibilty.\n"
   ]
  },
  {
   "cell_type": "markdown",
   "metadata": {},
   "source": [
    "##### How is memory managed in python ?\n",
    "    For the values , memory is allocated only once by interpreter if other some variables has the same value  then it is referenced to it ."
   ]
  },
  {
   "cell_type": "markdown",
   "metadata": {},
   "source": [
    "#####"
   ]
  },
  {
   "cell_type": "markdown",
   "metadata": {},
   "source": [
    "##### Q 15 . How to install python in windows and set path varibale ?\n",
    "\n",
    "1. Download the .exe  file of the appropriate version of python from www.python.org\n",
    "2. Then open it and accept the agreement and keep going click on next. \n",
    "3. Python will be installed in default path.\n",
    "4. Now open that folder where the python being installed.\n",
    "5. Copy the path of bin folder and go to enviroment variable and edit path and then add new path there.\n",
    "6. Now open terminal and check for version by using this command\n",
    " python -- version"
   ]
  },
  {
   "cell_type": "markdown",
   "metadata": {},
   "source": [
    "##### Is indenetation required in Python ?\n",
    "Yes, Indentation is required in Python."
   ]
  },
  {
   "cell_type": "code",
   "execution_count": null,
   "metadata": {},
   "outputs": [],
   "source": []
  }
 ],
 "metadata": {
  "language_info": {
   "name": "python"
  },
  "orig_nbformat": 4
 },
 "nbformat": 4,
 "nbformat_minor": 2
}
