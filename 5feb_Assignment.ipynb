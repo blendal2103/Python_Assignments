{
 "cells": [
  {
   "cell_type": "markdown",
   "metadata": {},
   "source": [
    "### Q1. Explain Class and Object with respect to Object-Oriented Programming. Give a suitable example.\n",
    "\n"
   ]
  },
  {
   "cell_type": "markdown",
   "metadata": {},
   "source": [
    "Class : Class is blueprint for an real life entity. It wraps the operations and related data .\n",
    "Object : It is an instance of an class. It represent unique object with unique properties.\n",
    "\n",
    "For ex :\n",
    "Car is a class whic has properties like diesel,average,name,model,company and its operations .\n",
    "The car are of several types . The swift is object of class which has a unique properties than others."
   ]
  },
  {
   "cell_type": "markdown",
   "metadata": {},
   "source": [
    "##### Q2. Name the four pillars of OOPs.\n",
    "\n",
    "The four pillars of OOPS are :\n",
    "   1. Abstraction\n",
    "   2. Encapsulation\n",
    "   3. Inheritance\n",
    "   4. Polymorphism"
   ]
  },
  {
   "cell_type": "markdown",
   "metadata": {},
   "source": [
    "##### Q3. Explain why the __init__() function is used. Give a suitable example.\n",
    "\n",
    "- init method is used to initialize the object .\n",
    "- it is a constructor in python.\n",
    "- It is invoked when the instance of an object is created. "
   ]
  },
  {
   "cell_type": "code",
   "execution_count": 5,
   "metadata": {},
   "outputs": [
    {
     "name": "stdout",
     "output_type": "stream",
     "text": [
      "Car Name :Swift\n",
      "Car Company :Maruti\n",
      "\n",
      "Car Name :Thar\n",
      "Car Company :Mahindra\n"
     ]
    }
   ],
   "source": [
    "class Car:\n",
    "    def __init__(self,name,company):\n",
    "        self.name=name\n",
    "        self.company=company\n",
    "    \n",
    "    def __str__(self) :\n",
    "        return f\"Car Name :{self.name}\\nCar Company :{self.company}\"\n",
    "\n",
    "s=Car(\"Swift\",\"Maruti\")\n",
    "print(s)\n",
    "print()\n",
    "s=Car(\"Thar\",\"Mahindra\")\n",
    "print(s)\n",
    "\n"
   ]
  },
  {
   "cell_type": "markdown",
   "metadata": {},
   "source": [
    "##### Q4. Why self is used in OOPs?\n",
    "\n",
    "- Self is used in python for referrencing to the current instance through which the method is called .\n",
    "- This is not keyword although other names are also used instead of that .\n",
    "- It is implictly passed to the methos when the method on object is called. \n"
   ]
  },
  {
   "cell_type": "markdown",
   "metadata": {},
   "source": [
    "##### Q5. What is inheritance? Give an example for each type of inheritance.\n",
    "\n",
    "- Inhertance is is fundamental concept of OOP which allows users to define a class from preexisting classes.\n",
    "- It also improves the reusability of code .\n",
    "- The new class inherits the properties and methods of the existing class\n",
    "\n",
    "- This are the following types of Inheritancesv:\n",
    "    1. Single Inheritance\n",
    "    2. Multiple Inheritance\n",
    "    3. Multilevel Inheritance\n",
    "    4. Hybrid Inheritance\n",
    "\n",
    "1. Single Inheritance :\n",
    "    - In this type of Inheritance, A derived class is derived from a single base class.\n",
    "    - For ex : A derived class tiger inherited from a base class ANimal . The tiger class have all properties of Animal in addition of it's own properties .\n",
    "\n",
    "2. Multiple Inheritance :\n",
    "  - A Multiple classes are derived  from the single base classe.\n",
    "  - For ex : The derived classes Cat and Dog which are derived from  base class Animal\n",
    "\n",
    "3. Multilevel Inheritane :\n",
    "  - The derived class is derived from another derived class.\n",
    "  - For ex : A child class is derived from the Father class which is further derived from the base class Grandfather.\n",
    "4. Hybrid Inhertance:\n",
    " - It is the combination of Multilevel and Hierarchical Inheritance.  \n",
    " - A base class Vechicle is deriving the class Car . There is another class racing . The derived class ferrari is derived from base class Racing and derived class Car. \n"
   ]
  },
  {
   "cell_type": "markdown",
   "metadata": {},
   "source": []
  }
 ],
 "metadata": {
  "kernelspec": {
   "display_name": "Python 3",
   "language": "python",
   "name": "python3"
  },
  "language_info": {
   "codemirror_mode": {
    "name": "ipython",
    "version": 3
   },
   "file_extension": ".py",
   "mimetype": "text/x-python",
   "name": "python",
   "nbconvert_exporter": "python",
   "pygments_lexer": "ipython3",
   "version": "3.10.11"
  },
  "orig_nbformat": 4
 },
 "nbformat": 4,
 "nbformat_minor": 2
}
